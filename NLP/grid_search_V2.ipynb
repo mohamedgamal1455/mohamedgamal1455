{
  "nbformat": 4,
  "nbformat_minor": 0,
  "metadata": {
    "colab": {
      "name": "grid search V2.ipynb",
      "provenance": [],
      "authorship_tag": "ABX9TyNSoBDm3CbotmFVSfIYjBR/",
      "include_colab_link": true
    },
    "kernelspec": {
      "name": "python3",
      "display_name": "Python 3"
    },
    "language_info": {
      "name": "python"
    }
  },
  "cells": [
    {
      "cell_type": "markdown",
      "metadata": {
        "id": "view-in-github",
        "colab_type": "text"
      },
      "source": [
        "<a href=\"https://colab.research.google.com/github/mohamedgamal1455/mohamedgamal1455/blob/main/NLP/grid_search_V2.ipynb\" target=\"_parent\"><img src=\"https://colab.research.google.com/assets/colab-badge.svg\" alt=\"Open In Colab\"/></a>"
      ]
    },
    {
      "cell_type": "markdown",
      "source": [
        "# grid search linear regression model on the auto insurance dataset"
      ],
      "metadata": {
        "id": "MZ5LXZgRZdY2"
      }
    },
    {
      "cell_type": "code",
      "execution_count": 1,
      "metadata": {
        "id": "7IIq8oAbQwta"
      },
      "outputs": [],
      "source": [
        "\n",
        "from pandas import read_csv\n",
        "from sklearn.linear_model import Ridge\n",
        "from sklearn.model_selection import RepeatedKFold\n",
        "from sklearn.model_selection import GridSearchCV\n"
      ]
    },
    {
      "cell_type": "markdown",
      "source": [
        "# load dataset\n"
      ],
      "metadata": {
        "id": "40JcA_zxROzE"
      }
    },
    {
      "cell_type": "code",
      "source": [
        "url = 'https://raw.githubusercontent.com/jbrownlee/Datasets/master/auto-insurance.csv'\n",
        "dataframe = read_csv(url, header=None)\n"
      ],
      "metadata": {
        "id": "C4NjN16mRTpL"
      },
      "execution_count": 2,
      "outputs": []
    },
    {
      "cell_type": "markdown",
      "source": [
        "# split into input and output elements\n"
      ],
      "metadata": {
        "id": "mvu6g3QuRW56"
      }
    },
    {
      "cell_type": "code",
      "source": [
        "data = dataframe.values\n",
        "X, y = data[:, :-1], data[:, -1]\n"
      ],
      "metadata": {
        "id": "_zhFLELIRfS8"
      },
      "execution_count": 3,
      "outputs": []
    },
    {
      "cell_type": "markdown",
      "source": [
        "# define model\n"
      ],
      "metadata": {
        "id": "RqC-maYHRpCb"
      }
    },
    {
      "cell_type": "code",
      "source": [
        "model = Ridge()\n"
      ],
      "metadata": {
        "id": "s9bUr6oyRqop"
      },
      "execution_count": 4,
      "outputs": []
    },
    {
      "cell_type": "markdown",
      "source": [
        "# define evaluation\n"
      ],
      "metadata": {
        "id": "aLCdUYrFRtY6"
      }
    },
    {
      "cell_type": "code",
      "source": [
        "cv = RepeatedKFold(n_splits=10, n_repeats=3, random_state=1)\n"
      ],
      "metadata": {
        "id": "b5fKzD-rRveg"
      },
      "execution_count": 5,
      "outputs": []
    },
    {
      "cell_type": "markdown",
      "source": [
        "# define search space\n"
      ],
      "metadata": {
        "id": "doXq3YOjRxI5"
      }
    },
    {
      "cell_type": "code",
      "source": [
        "space = dict()\n",
        "space['solver'] = ['svd', 'cholesky', 'lsqr', 'sag']\n",
        "space['alpha'] = [1e-5, 1e-4, 1e-3, 1e-2, 1e-1, 1, 10, 100]\n",
        "space['fit_intercept'] = [True, False]\n",
        "space['normalize'] = [True, False]"
      ],
      "metadata": {
        "id": "AzpBWdJHRzOp"
      },
      "execution_count": 6,
      "outputs": []
    },
    {
      "cell_type": "markdown",
      "source": [
        "# define search\n"
      ],
      "metadata": {
        "id": "VAZ69pDUR0ix"
      }
    },
    {
      "cell_type": "code",
      "source": [
        "search = GridSearchCV(model, space, scoring='neg_mean_absolute_error', n_jobs=-1, cv=cv)"
      ],
      "metadata": {
        "id": "CvwULlGYR2ch"
      },
      "execution_count": 7,
      "outputs": []
    },
    {
      "cell_type": "markdown",
      "source": [
        "# execute search\n"
      ],
      "metadata": {
        "id": "iwdtpDyxR5mR"
      }
    },
    {
      "cell_type": "code",
      "source": [
        "result = search.fit(X, y)\n"
      ],
      "metadata": {
        "colab": {
          "base_uri": "https://localhost:8080/"
        },
        "id": "13Gl4XzlR9Wk",
        "outputId": "1bbd5440-0fba-4547-b407-b796a784af57"
      },
      "execution_count": 8,
      "outputs": [
        {
          "output_type": "stream",
          "name": "stderr",
          "text": [
            "/usr/local/lib/python3.7/dist-packages/sklearn/linear_model/_base.py:155: FutureWarning: 'normalize' was deprecated in version 1.0 and will be removed in 1.2. Please leave the normalize parameter to its default value to silence this warning. The default behavior of this estimator is to not do any normalization. If normalization is needed please use sklearn.preprocessing.StandardScaler instead.\n",
            "  FutureWarning,\n"
          ]
        }
      ]
    },
    {
      "cell_type": "markdown",
      "source": [
        "# summarize result\n"
      ],
      "metadata": {
        "id": "ghEY4nSKSFiA"
      }
    },
    {
      "cell_type": "code",
      "source": [
        "print('Best Score: %s' % result.best_score_)\n",
        "print('Best Hyperparameters: %s' % result.best_params_)"
      ],
      "metadata": {
        "colab": {
          "base_uri": "https://localhost:8080/"
        },
        "id": "or_iLOejR9YO",
        "outputId": "ef2afe2a-d2c6-4660-f0d1-5de539747586"
      },
      "execution_count": 9,
      "outputs": [
        {
          "output_type": "stream",
          "name": "stdout",
          "text": [
            "Best Score: -29.257778256117618\n",
            "Best Hyperparameters: {'alpha': 0.01, 'fit_intercept': True, 'normalize': False, 'solver': 'sag'}\n"
          ]
        }
      ]
    }
  ]
}