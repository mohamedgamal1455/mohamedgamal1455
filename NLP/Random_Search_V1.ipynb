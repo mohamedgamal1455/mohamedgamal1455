{
  "nbformat": 4,
  "nbformat_minor": 0,
  "metadata": {
    "colab": {
      "name": "Random Search V1.ipynb",
      "provenance": [],
      "authorship_tag": "ABX9TyOkX1HYajjiAUhQExpN19OT",
      "include_colab_link": true
    },
    "kernelspec": {
      "name": "python3",
      "display_name": "Python 3"
    },
    "language_info": {
      "name": "python"
    },
    "accelerator": "GPU"
  },
  "cells": [
    {
      "cell_type": "markdown",
      "metadata": {
        "id": "view-in-github",
        "colab_type": "text"
      },
      "source": [
        "<a href=\"https://colab.research.google.com/github/mohamedgamal1455/mohamedgamal1455/blob/main/NLP/Random_Search_V1.ipynb\" target=\"_parent\"><img src=\"https://colab.research.google.com/assets/colab-badge.svg\" alt=\"Open In Colab\"/></a>"
      ]
    },
    {
      "cell_type": "markdown",
      "source": [
        "\n",
        "# random search logistic regression model on the sonar dataset"
      ],
      "metadata": {
        "id": "rNpGab6bFz2F"
      }
    },
    {
      "cell_type": "code",
      "execution_count": 36,
      "metadata": {
        "id": "I1pJxpC1ExSA"
      },
      "outputs": [],
      "source": [
        "from scipy.stats import loguniform\n",
        "from pandas import read_csv\n",
        "from sklearn.linear_model import LogisticRegression\n",
        "from sklearn.model_selection import RepeatedStratifiedKFold\n",
        "from sklearn.model_selection import RandomizedSearchCV"
      ]
    },
    {
      "cell_type": "markdown",
      "source": [
        "# # load dataset"
      ],
      "metadata": {
        "id": "oqsMmHmDExn-"
      }
    },
    {
      "cell_type": "code",
      "source": [
        "url = 'https://raw.githubusercontent.com/jbrownlee/Datasets/master/sonar.csv'\n",
        "dataframe = read_csv(url, header=None)"
      ],
      "metadata": {
        "id": "dI2IfzFkEyE_"
      },
      "execution_count": 37,
      "outputs": []
    },
    {
      "cell_type": "markdown",
      "source": [
        "# split into input and output elements"
      ],
      "metadata": {
        "id": "EwoFGMR_QLb3"
      }
    },
    {
      "cell_type": "code",
      "source": [
        "data = dataframe.values\n",
        "X, y = data[:, :-1], data[:, -1]\n",
        "# define model\n",
        "model = LogisticRegression()"
      ],
      "metadata": {
        "id": "mAEOER8AFIrP"
      },
      "execution_count": 38,
      "outputs": []
    },
    {
      "cell_type": "markdown",
      "source": [
        "# define evaluation"
      ],
      "metadata": {
        "id": "rjBpO-VNQTv4"
      }
    },
    {
      "cell_type": "code",
      "source": [
        "cv = RepeatedStratifiedKFold(n_splits=10, n_repeats=3, random_state=1)"
      ],
      "metadata": {
        "id": "a3SSgCLnFSXt"
      },
      "execution_count": 39,
      "outputs": []
    },
    {
      "cell_type": "markdown",
      "source": [
        "# # define search space"
      ],
      "metadata": {
        "id": "C1zEJOkoNfSI"
      }
    },
    {
      "cell_type": "code",
      "source": [
        "space = dict()\n",
        "space['solver'] = ['newton-cg', 'lbfgs', 'liblinear']\n",
        "space['penalty'] = ['none', 'l1', 'l2', 'elasticnet']\n",
        "space['C'] = loguniform(1e-5, 100)"
      ],
      "metadata": {
        "id": "e7jj-_WGFWyu"
      },
      "execution_count": 40,
      "outputs": []
    },
    {
      "cell_type": "markdown",
      "source": [
        "# define search"
      ],
      "metadata": {
        "id": "jUcFOeiUOKtl"
      }
    },
    {
      "cell_type": "code",
      "source": [
        "search = RandomizedSearchCV(model, space, n_iter=500, scoring='accuracy', n_jobs=-1, cv=cv, random_state=1)\n"
      ],
      "metadata": {
        "id": "iB4N6kF5FdF1"
      },
      "execution_count": 41,
      "outputs": []
    },
    {
      "cell_type": "markdown",
      "source": [
        "# execute search"
      ],
      "metadata": {
        "id": "8exQtlImOTLE"
      }
    },
    {
      "cell_type": "code",
      "source": [
        "result = search.fit(X, y)"
      ],
      "metadata": {
        "id": "RuU6NSVOFjdm"
      },
      "execution_count": null,
      "outputs": []
    },
    {
      "cell_type": "markdown",
      "source": [
        "# summarize result"
      ],
      "metadata": {
        "id": "mS1nPsOlPtHv"
      }
    },
    {
      "cell_type": "code",
      "source": [
        "\n",
        "print('Best Score: %s' % result.best_score_)\n",
        "print('Best Hyperparameters: %s' % result.best_params_)\n"
      ],
      "metadata": {
        "colab": {
          "base_uri": "https://localhost:8080/"
        },
        "id": "9fBmvTQNFqgI",
        "outputId": "d859e31b-92bc-4410-e6bd-20464e95de75"
      },
      "execution_count": 20,
      "outputs": [
        {
          "output_type": "stream",
          "name": "stdout",
          "text": [
            "Best Score: 0.7897619047619049\n",
            "Best Hyperparameters: {'C': 4.878363034905756, 'penalty': 'l2', 'solver': 'newton-cg'}\n"
          ]
        }
      ]
    }
  ]
}